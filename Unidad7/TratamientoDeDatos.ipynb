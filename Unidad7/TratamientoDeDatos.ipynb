{
 "cells": [
  {
   "cell_type": "code",
   "execution_count": 1,
   "metadata": {},
   "outputs": [],
   "source": [
    "import numpy as np\n",
    "a= np.array([2,3,4])"
   ]
  },
  {
   "cell_type": "code",
   "execution_count": 2,
   "metadata": {},
   "outputs": [
    {
     "data": {
      "text/plain": [
       "dtype('int32')"
      ]
     },
     "execution_count": 2,
     "metadata": {},
     "output_type": "execute_result"
    }
   ],
   "source": [
    "a.dtype"
   ]
  },
  {
   "cell_type": "code",
   "execution_count": 5,
   "metadata": {},
   "outputs": [
    {
     "name": "stdout",
     "output_type": "stream",
     "text": [
      "[[2 3 4]\n",
      " [5 6 7]]\n"
     ]
    }
   ],
   "source": [
    "a= np.array([[2,3,4],[5,6,7]])\n",
    "print(a)"
   ]
  },
  {
   "cell_type": "markdown",
   "metadata": {},
   "source": [
    "# complex\n",
    "Los números complejos son aquellos que tienen parte imaginaria. Si no conocías de su existencia, es más que probable que nunca lo vayas a necesitar.\n",
    "\n",
    "De hecho la mayor parte de lenguajes de programación carecen de este tipo, aunque sea muy utilizado por ingenieros y científicos en general.\n",
    "\n",
    "En el caso de que necesite utilizar números complejos, o simplemente tiene curiosidad, este tipo, llamado complex en Python, también se almacena usando coma flotante, debido a que estos números son una extensión de los números reales.\n",
    "\n",
    "En concreto se almacena en una estructura de C, compuesta por dos variables de tipo double, sirviendo una de ellas para almacenar la parte real y la otra para la parte imaginaria.\n",
    "\n",
    "Los números complejos en Python se representan de la siguiente forma:\n",
    "\n",
    "complejo = 2.1 + 7.8j"
   ]
  },
  {
   "cell_type": "code",
   "execution_count": 6,
   "metadata": {},
   "outputs": [
    {
     "data": {
      "text/plain": [
       "array([[2.+0.j, 3.+0.j],\n",
       "       [5.+0.j, 6.+0.j]])"
      ]
     },
     "execution_count": 6,
     "metadata": {},
     "output_type": "execute_result"
    }
   ],
   "source": [
    "c= np.array([[2,3],[5,6]], dtype= complex)\n",
    "c"
   ]
  },
  {
   "cell_type": "code",
   "execution_count": 8,
   "metadata": {},
   "outputs": [
    {
     "data": {
      "text/plain": [
       "array([1, 3, 5, 7, 9])"
      ]
     },
     "execution_count": 8,
     "metadata": {},
     "output_type": "execute_result"
    }
   ],
   "source": [
    "# genera una secuencia de números.\n",
    "# Toma como parámetros el rango de los números a generar, y la distancia entre ellos, y genera un array unidimensional\n",
    "# numpy.arange([start,] stop, [step,]dtype=None)\n",
    "a= np.arange(1,10,2)\n",
    "a\n"
   ]
  },
  {
   "cell_type": "code",
   "execution_count": 10,
   "metadata": {},
   "outputs": [
    {
     "data": {
      "text/plain": [
       "array([[2. , 2.3, 2.6, 2.9, 3.2, 3.5, 3.8],\n",
       "       [4.1, 4.4, 4.7, 5. , 5.3, 5.6, 5.9]])"
      ]
     },
     "execution_count": 10,
     "metadata": {},
     "output_type": "execute_result"
    }
   ],
   "source": [
    "# Se puede redimensionar el array que genera arange() mediante el método reshape(), que toma como argumentos la dimensiones. \n",
    "# Las dimensiones deben ser consistentes con el número de elementos generados\n",
    "# array([[2. , 2.3, 2.6, 2.9, 3.2, 3.5, 3.8],\n",
    "#      [4.1, 4.4, 4.7, 5. , 5.3, 5.6, 5.9]])\n",
    "\n",
    "b= np.arange(2,6,0.3).reshape(2,7) # 2 arrays de 7 elementos\n",
    "b"
   ]
  },
  {
   "cell_type": "code",
   "execution_count": 13,
   "metadata": {},
   "outputs": [
    {
     "data": {
      "text/plain": [
       "array([ 1.        ,  2.28571429,  3.57142857,  4.85714286,  6.14285714,\n",
       "        7.42857143,  8.71428571, 10.        ])"
      ]
     },
     "execution_count": 13,
     "metadata": {},
     "output_type": "execute_result"
    }
   ],
   "source": [
    "# Cuando se usan argumentos reales con arange(),\n",
    "# es mejor usar la función linspace, que también genera una secuencia de números a partir de\n",
    "# un rango dado para crear un array, pero recibe como tercer argumento el número de elementos,\n",
    "# en vez de la distancia entre ellos.\n",
    "\n",
    "a= np.linspace(1,10,8)\n",
    "a"
   ]
  },
  {
   "cell_type": "code",
   "execution_count": 14,
   "metadata": {},
   "outputs": [
    {
     "data": {
      "text/plain": [
       "array([0.72868145, 0.96255071, 0.68814127, 0.50852158, 0.88520357,\n",
       "       0.08681024, 0.81009389, 0.83667172, 0.44165717, 0.90154764])"
      ]
     },
     "execution_count": 14,
     "metadata": {},
     "output_type": "execute_result"
    }
   ],
   "source": [
    "# Creación de un array unidimensional con datos aleatorios mediante la función rand del módulo Random.\n",
    "# La función rand devuelve un número aleatorio procedente de una distribución uniforme en el intervalo [0,1].\n",
    "\n",
    "a= np.random.rand(10)\n",
    "a\n"
   ]
  },
  {
   "cell_type": "code",
   "execution_count": 15,
   "metadata": {},
   "outputs": [
    {
     "data": {
      "text/plain": [
       "array([[0.02142838, 0.66577739, 0.4982237 , 0.58589554],\n",
       "       [0.0520409 , 0.2267725 , 0.45569262, 0.50842992],\n",
       "       [0.41651661, 0.14457622, 0.05634743, 0.62725057]])"
      ]
     },
     "execution_count": 15,
     "metadata": {},
     "output_type": "execute_result"
    }
   ],
   "source": [
    "b= np.random.rand(3,4) # valores aleatoros - 3 filas, 4 columnas\n",
    "b"
   ]
  },
  {
   "cell_type": "code",
   "execution_count": 20,
   "metadata": {},
   "outputs": [
    {
     "name": "stdout",
     "output_type": "stream",
     "text": [
      "zeros:  [0. 0. 0. 0.]\n",
      "ones:  [[1. 1.]]\n",
      "empty:  [[0. 0. 0.]\n",
      " [0. 0. 0.]]\n"
     ]
    }
   ],
   "source": [
    "# Existen funciones que generan arrays especiales que solo requieren como argumento el tamaño del array\n",
    "a= np.zeros(4)\n",
    "print(\"zeros: \",a)\n",
    "b= np.ones([1,2])\n",
    "print(\"ones: \", b)\n",
    "c= np.empty((2,3))\n",
    "print(\"empty: \",c)"
   ]
  },
  {
   "cell_type": "code",
   "execution_count": 22,
   "metadata": {},
   "outputs": [
    {
     "name": "stdout",
     "output_type": "stream",
     "text": [
      "Resta: [32  9 -2 -2]\n",
      "Multiplicar elementos por 10: [340 120  30  40]\n"
     ]
    }
   ],
   "source": [
    "# Operaciones sobre la misma posición\n",
    "a= np.array([34,12,3,4])\n",
    "b= np.array([2,3,5,6])\n",
    "c= a-b\n",
    "print(\"Resta:\", c)\n",
    "d= a*10\n",
    "print(\"Multiplicar elementos por 10:\", d)"
   ]
  },
  {
   "cell_type": "markdown",
   "metadata": {},
   "source": [
    "# Arrays de diferente tipo\n",
    "  Cuando se opera con arrays de diferente tipo, el tipo del array resultante corresponde al más genera"
   ]
  },
  {
   "cell_type": "code",
   "execution_count": 24,
   "metadata": {},
   "outputs": [
    {
     "data": {
      "text/plain": [
       "dtype('float64')"
      ]
     },
     "execution_count": 24,
     "metadata": {},
     "output_type": "execute_result"
    }
   ],
   "source": [
    "a= np.array([2,3,6,7])\n",
    "b= np.linspace(2,3,4)\n",
    "c= a+b\n",
    "c.dtype"
   ]
  },
  {
   "cell_type": "markdown",
   "metadata": {},
   "source": [
    "# Funciones matemáticas universales\n",
    "En NumPy existe un conjunto de funciones matemáticas denominadas funciones universales: sin, cos ,exp… . Estas funciones operan elemento a elemento y generan como resultado un nuevo array."
   ]
  },
  {
   "cell_type": "code",
   "execution_count": 27,
   "metadata": {},
   "outputs": [
    {
     "data": {
      "text/plain": [
       "array([  49, 3600,   81], dtype=int32)"
      ]
     },
     "execution_count": 27,
     "metadata": {},
     "output_type": "execute_result"
    }
   ],
   "source": [
    "a= np.array([-7,60,-9])\n",
    "b= np.square(a)\n",
    "b"
   ]
  },
  {
   "cell_type": "code",
   "execution_count": 28,
   "metadata": {},
   "outputs": [
    {
     "data": {
      "text/plain": [
       "array([2.64575131, 7.74596669, 3.        ])"
      ]
     },
     "execution_count": 28,
     "metadata": {},
     "output_type": "execute_result"
    }
   ],
   "source": [
    "c= np.sqrt(np.abs(a))\n",
    "c"
   ]
  },
  {
   "cell_type": "code",
   "execution_count": 30,
   "metadata": {},
   "outputs": [
    {
     "data": {
      "text/plain": [
       "array([[ 2,  7],\n",
       "       [ 4, 13]])"
      ]
     },
     "execution_count": 30,
     "metadata": {},
     "output_type": "execute_result"
    }
   ],
   "source": [
    "#En particular es muy útil la función dot(), que permite realizar la multiplicación matricial\n",
    "a= np.array([[2,3],[4,5]])\n",
    "b= np.array([[1,2],[0,1]])\n",
    "c= np.dot(a,b)\n",
    "c"
   ]
  },
  {
   "cell_type": "code",
   "execution_count": 31,
   "metadata": {},
   "outputs": [
    {
     "data": {
      "text/plain": [
       "8"
      ]
     },
     "execution_count": 31,
     "metadata": {},
     "output_type": "execute_result"
    }
   ],
   "source": [
    "a= np.array([2,3])\n",
    "b= np.array([1,2])\n",
    "c= np.dot(a,b)\n",
    "c"
   ]
  },
  {
   "cell_type": "code",
   "execution_count": null,
   "metadata": {},
   "outputs": [],
   "source": [
    "# El argumento axis\n",
    "# Existen algunas operaciones implementadas como métodos de la clase ndarray y, por defecto, \n",
    "# se aplican a todos los elementos del array. Sin embargo, es posible especificar la dimensión \n",
    "# sobre la que se quiere aplicar la operación mediante el argumento axis \n",
    "# que toma el valor 0 (columnas) o 1 (filas)\n",
    "\n",
    "b= np.empty((3,4))\n",
    "b\n"
   ]
  },
  {
   "cell_type": "code",
   "execution_count": 41,
   "metadata": {},
   "outputs": [
    {
     "data": {
      "text/plain": [
       "4.258951784837528"
      ]
     },
     "execution_count": 41,
     "metadata": {},
     "output_type": "execute_result"
    }
   ],
   "source": [
    "b.sum()"
   ]
  },
  {
   "cell_type": "code",
   "execution_count": 42,
   "metadata": {},
   "outputs": [
    {
     "data": {
      "text/plain": [
       "array([0.48998589, 1.03712611, 1.01026375, 1.72157603])"
      ]
     },
     "execution_count": 42,
     "metadata": {},
     "output_type": "execute_result"
    }
   ],
   "source": [
    "b.sum(axis=0)"
   ]
  },
  {
   "cell_type": "markdown",
   "metadata": {},
   "source": [
    "# Operadores += y *=\n",
    " Los operadores += y *= modifican los arrays en vez de crear uno nuevo "
   ]
  },
  {
   "cell_type": "code",
   "execution_count": 45,
   "metadata": {},
   "outputs": [
    {
     "data": {
      "text/plain": [
       "array([5, 6, 8, 9])"
      ]
     },
     "execution_count": 45,
     "metadata": {},
     "output_type": "execute_result"
    }
   ],
   "source": [
    "a= np.array([2,3,5,6])\n",
    "a+=3\n",
    "a"
   ]
  },
  {
   "cell_type": "code",
   "execution_count": 46,
   "metadata": {},
   "outputs": [
    {
     "data": {
      "text/plain": [
       "array([25, 36, 64, 81])"
      ]
     },
     "execution_count": 46,
     "metadata": {},
     "output_type": "execute_result"
    }
   ],
   "source": [
    "a*=a\n",
    "a"
   ]
  },
  {
   "cell_type": "code",
   "execution_count": null,
   "metadata": {},
   "outputs": [],
   "source": []
  }
 ],
 "metadata": {
  "kernelspec": {
   "display_name": "Python 3",
   "language": "python",
   "name": "python3"
  },
  "language_info": {
   "codemirror_mode": {
    "name": "ipython",
    "version": 3
   },
   "file_extension": ".py",
   "mimetype": "text/x-python",
   "name": "python",
   "nbconvert_exporter": "python",
   "pygments_lexer": "ipython3",
   "version": "3.7.1"
  }
 },
 "nbformat": 4,
 "nbformat_minor": 2
}
