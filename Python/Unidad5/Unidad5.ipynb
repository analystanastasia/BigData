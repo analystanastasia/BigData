{
 "cells": [
  {
   "cell_type": "markdown",
   "metadata": {},
   "source": [
    "# IMF - BIG DATA & BUSINESS ANALYTICS\n",
    "## Módulo 1. Unidad 5 - Fundamentos de tecnologías de Internet\n",
    "\n",
    "# CSV\n",
    "Ejemplo de lectura de un CSV"
   ]
  },
  {
   "cell_type": "code",
   "execution_count": 1,
   "metadata": {},
   "outputs": [],
   "source": [
    "#Importamos la librería CSV\n",
    "import csv"
   ]
  },
  {
   "cell_type": "code",
   "execution_count": 2,
   "metadata": {},
   "outputs": [
    {
     "name": "stdout",
     "output_type": "stream",
     "text": [
      "[['7', '28/11/2017', '14:59', 'Cerezas', '90'], ['8', '29/11/2017', '18:20', 'Sand¡a', '37'], ['9', '30/11/2017', '13:09', 'Manzanas', '147'], ['10', '01/12/2017', '15:30', 'Pl\\xa0tanos', '56']]\n"
     ]
    }
   ],
   "source": [
    "#Abrimos el archico\n",
    "archivoEjemplo = open(\"EjemploCSV.csv\")\n",
    "ejemploLector = csv.reader(archivoEjemplo)\n",
    "ejemploListaDatos = list(ejemploLector)\n",
    "print(ejemploListaDatos)"
   ]
  },
  {
   "cell_type": "markdown",
   "metadata": {},
   "source": [
    "Probamos ejemplos de acceso a un csv guardado como una lista de listas. NOTA: Las listas comienzan por el índice 0"
   ]
  },
  {
   "cell_type": "code",
   "execution_count": 3,
   "metadata": {},
   "outputs": [
    {
     "data": {
      "text/plain": [
       "'7'"
      ]
     },
     "execution_count": 3,
     "metadata": {},
     "output_type": "execute_result"
    }
   ],
   "source": [
    "ejemploListaDatos[0][0] #Mostramos la línea 1 del archivo"
   ]
  },
  {
   "cell_type": "markdown",
   "metadata": {},
   "source": [
    "Como podemos comprobar se meustra el primer elemento que es una cadena de texto vacía. Mostramos más ejemplos."
   ]
  },
  {
   "cell_type": "code",
   "execution_count": 4,
   "metadata": {},
   "outputs": [
    {
     "data": {
      "text/plain": [
       "'28/11/2017'"
      ]
     },
     "execution_count": 4,
     "metadata": {},
     "output_type": "execute_result"
    }
   ],
   "source": [
    "ejemploListaDatos[0][1]"
   ]
  },
  {
   "cell_type": "code",
   "execution_count": 5,
   "metadata": {},
   "outputs": [
    {
     "data": {
      "text/plain": [
       "['8', '29/11/2017', '18:20', 'Sand¡a', '37']"
      ]
     },
     "execution_count": 5,
     "metadata": {},
     "output_type": "execute_result"
    }
   ],
   "source": [
    "ejemploListaDatos[1][0:5] #Mostramos la primera línea de compra completa"
   ]
  },
  {
   "cell_type": "code",
   "execution_count": 6,
   "metadata": {},
   "outputs": [
    {
     "data": {
      "text/plain": [
       "'147'"
      ]
     },
     "execution_count": 6,
     "metadata": {},
     "output_type": "execute_result"
    }
   ],
   "source": [
    "ejemploListaDatos[2][4]"
   ]
  },
  {
   "cell_type": "markdown",
   "metadata": {},
   "source": [
    "Utilizamos el objeto Reader mediante un bluce for para mostrar todas las líneas, además utilizamos el atributo del objeto Reader line_num, para que nos numere todas las líneas del CSV"
   ]
  },
  {
   "cell_type": "code",
   "execution_count": 7,
   "metadata": {},
   "outputs": [
    {
     "name": "stdout",
     "output_type": "stream",
     "text": [
      "Linea #1 ['7', '28/11/2017', '14:59', 'Cerezas', '90']\n",
      "Linea #2 ['8', '29/11/2017', '18:20', 'Sand¡a', '37']\n",
      "Linea #3 ['9', '30/11/2017', '13:09', 'Manzanas', '147']\n",
      "Linea #4 ['10', '01/12/2017', '15:30', 'Pl\\xa0tanos', '56']\n"
     ]
    }
   ],
   "source": [
    "archivoEjemplo = open(\"EjemploCSV.csv\")\n",
    "ejemploLector = csv.reader(archivoEjemplo)\n",
    "for linea in ejemploLector:\n",
    "    print(\"Linea #\"+str(ejemploLector.line_num)+\" \"+str(linea))"
   ]
  },
  {
   "cell_type": "markdown",
   "metadata": {},
   "source": [
    "Del mismo modo que existe un método par leer CSV (Reader), también los podemos escrbiir, con el método Writer."
   ]
  },
  {
   "cell_type": "code",
   "execution_count": 8,
   "metadata": {},
   "outputs": [],
   "source": [
    "import csv\n",
    "archivoSaslida = open(\"SalidaCSVPrueba.csv\", mode = \"w\") #Especificamos en el atributo mode que tipo de acción queremos hacer con open\n",
    "salidaEscritor = csv.writer(archivoSaslida)\n",
    "salidaEscritor.writerow([\"Linea de compra\", \"Fecha\", \"Hora\", \"Producto\", \"Precio €\"])\n",
    "salidaEscritor.writerow([\"1\", \"22/11/2017\", \"14:36\", \"Mouse (PC)\", \"14.99\"])\n",
    "salidaEscritor.writerow([\"2\", \"23/11/2017\", \"12:01\", \"MSI CX62\", \"750\"])\n",
    "salidaEscritor.writerow([\"3\", \"24/11/2017\", \"09:30\", \"iPhone X (64Gb)\", \"959\"])\n",
    "salidaEscritor.writerow([\"4\", \"25/11/2017\", \"15:45\", \"SSD 256Gb\", \"240\"])\n",
    "salidaEscritor.writerow([\"5\", \"26/11/2017\", \"16:42\", \"Keyboard (PC)\", \"21.20\"])\n",
    "salidaEscritor.writerow([\"6\", \"27/11/2017\", \"11:11\", \"Intel i7-7000 HQ\", \"360\"])\n",
    "archivoSaslida.close()"
   ]
  },
  {
   "cell_type": "markdown",
   "metadata": {},
   "source": [
    "Hemos de tener cuidado en la escritura de un .csv, ya que si uno de los valores tiene comas, el módulo lo gestionará como si guera una única cadena, almacenándolo con dobles comillas "
   ]
  },
  {
   "cell_type": "code",
   "execution_count": 9,
   "metadata": {},
   "outputs": [],
   "source": [
    "import csv\n",
    "archivoSaslida_2 = open(\"SalidaCSVPrueba2.csv\", mode = \"w\") #Especificamos en el atributo mode que tipo de acción queremos hacer con open\n",
    "salidaEscritor = csv.writer(archivoSaslida_2)\n",
    "salidaEscritor.writerow([\"Linea de compra\", \"Fecha\", \"Hora\", \"Producto\", \"Precio €\"])\n",
    "salidaEscritor.writerow([\"1\", \"22/11/2017\", \"14:36\", \"Mouse (PC)\", \"14.99\"])\n",
    "salidaEscritor.writerow([\"2\", \"23/11/2017\", \"12:01\", \"MSI CX62, CADENA DE PRUEBA\", \"750\"])\n",
    "archivoSaslida_2.close()"
   ]
  },
  {
   "cell_type": "markdown",
   "metadata": {},
   "source": [
    "Existen más posibilidades como por ejemplo, separar los valores con otro separador diferente a la coma (como punto y coma o tabulaciones), o que, por ejemplo, las líenas estén, a su vez separadas por más de un espacio."
   ]
  },
  {
   "cell_type": "code",
   "execution_count": 10,
   "metadata": {},
   "outputs": [],
   "source": [
    "import csv\n",
    "archivoSaslida_3 = open(\"SalidaCSVPrueba3.csv\", mode = \"w\") #Especificamos en el atributo mode que tipo de acción queremos hacer con open\n",
    "salidaEscritor = csv.writer(archivoSaslida_3, delimiter = '\\t', lineterminator='\\n\\n') #Separamos cada elemento del csv\n",
    "                                            # con tabulaciones y las líneas las terminamos con 2 espacios\n",
    "salidaEscritor.writerow([\"Linea de compra\", \"Fecha\", \"Hora\", \"Producto\", \"Precio €\"])\n",
    "salidaEscritor.writerow([\"1\", \"22/11/2017\", \"14:36\", \"Mouse (PC)\", \"14.99\"])\n",
    "salidaEscritor.writerow([\"2\", \"23/11/2017\", \"12:01\", \"MSI CX62\", \"750\"])\n",
    "archivoSaslida_3.close()"
   ]
  },
  {
   "cell_type": "code",
   "execution_count": 11,
   "metadata": {},
   "outputs": [
    {
     "name": "stdout",
     "output_type": "stream",
     "text": [
      "Linea #1 ['Linea de compra\\tFecha\\tHora\\tProducto\\tPrecio €']\n",
      "Linea #2 []\n",
      "Linea #3 ['1\\t22/11/2017\\t14:36\\tMouse (PC)\\t14.99']\n",
      "Linea #4 []\n",
      "Linea #5 ['2\\t23/11/2017\\t12:01\\tMSI CX62\\t750']\n",
      "Linea #6 []\n"
     ]
    }
   ],
   "source": [
    "archivoEjemplo_2 = open(\"SalidaCSVPrueba3.csv\")\n",
    "ejemploLector = csv.reader(archivoEjemplo_2)\n",
    "for linea in ejemploLector:\n",
    "    print(\"Linea #\"+str(ejemploLector.line_num)+\" \"+str(linea))"
   ]
  },
  {
   "cell_type": "markdown",
   "metadata": {},
   "source": [
    "Se pueden consultar todas las funciones de csv. y parámetros de cada función en la documentación oficial. https://docs.python.org/3/library/csv.html"
   ]
  },
  {
   "cell_type": "markdown",
   "metadata": {},
   "source": [
    "### Ejemplo de programa \n",
    "Se va a considerar un programa que permita:\n",
    "* Encontrar todos los archivos CSV del directorio actual.\n",
    "* Leer el contenido de cada archivo.\n",
    "* Escribir nuevamente el contenido saltándose la primera línea sobre un nuevo archivo CSV"
   ]
  },
  {
   "cell_type": "code",
   "execution_count": 12,
   "metadata": {},
   "outputs": [
    {
     "name": "stdout",
     "output_type": "stream",
     "text": [
      "Eliminando cabeceras de:: EjemploCSV.csv ...\n",
      "Eliminando cabeceras de:: SalidaCSVPrueba.csv ...\n",
      "Eliminando cabeceras de:: SalidaCSVPrueba2.csv ...\n",
      "Eliminando cabeceras de:: SalidaCSVPrueba3.csv ...\n"
     ]
    }
   ],
   "source": [
    "import csv, os\n",
    "#Se crea un directorio para almacenar los archivos sin cabecera\n",
    "os.makedirs(\"SinCabeceras\", exist_ok=True)\n",
    "\n",
    "#Bucle para recuperar los archivos del directorio actual\n",
    "for csvFilename in os.listdir('.'):\n",
    "    if not csvFilename.endswith('.csv'):\n",
    "        continue #Saltamos los archivos que no sen csv\n",
    "    print(\"Eliminando cabeceras de:: \"+ csvFilename + \" ...\")\n",
    "    \n",
    "    #Leer el archivo csv y saltarse la primera liena\n",
    "    csvRows = []\n",
    "    csvFileObj = open(csvFilename)\n",
    "    readerObj = csv.reader(csvFileObj)\n",
    "    for row in readerObj:\n",
    "        if readerObj.line_num == 1:\n",
    "            continue #Saltar la primera línea\n",
    "        csvRows.append(row)\n",
    "    csvFileObj.close()\n",
    "    \n",
    "    #Escribir la salida al archivo csv\n",
    "#     csvFileObj = open(os.path.join(\"SinCabecera\", csvFilename), mode = 'w', newline='')\n",
    "    #NOTA SI LA LINEA ANTERIOR OS REPORTA PROBLEMAS PROBAR LA SIGUIENTE\n",
    "    csvFileObj = open((csvFilename), mode = 'w', newline='')\n",
    "    \n",
    "    csvWriter = csv.writer(csvFileObj)\n",
    "    for row in csvRows:\n",
    "        csvWriter.writerow(row)\n",
    "    csvFileObj.close()"
   ]
  },
  {
   "cell_type": "markdown",
   "metadata": {},
   "source": [
    "# JSON\n",
    "Podemos escribir una cadena de texto JSON en Python y cargarla."
   ]
  },
  {
   "cell_type": "code",
   "execution_count": 13,
   "metadata": {},
   "outputs": [
    {
     "name": "stdout",
     "output_type": "stream",
     "text": [
      "{'nombre': 'Sofia', 'matriculado': True, 'Edad': 34, 'ID': None}\n"
     ]
    }
   ],
   "source": [
    "jsonDatos = '{\"nombre\": \"Sofia\", \"matriculado\": true, \"Edad\":34,\"ID\": null}'\n",
    "import json\n",
    "datosjson = json.loads(jsonDatos)\n",
    "print(datosjson)"
   ]
  },
  {
   "cell_type": "markdown",
   "metadata": {},
   "source": [
    "También podemos escribir un valor de Python como una cadena de datos JSON, se usa el método json.dumps()"
   ]
  },
  {
   "cell_type": "code",
   "execution_count": 14,
   "metadata": {},
   "outputs": [
    {
     "name": "stdout",
     "output_type": "stream",
     "text": [
      "{\"nombre\": \"Manuel\", \"matriculado\": false, \"Edad\": 41, \"ID\": \"#001\"}\n"
     ]
    }
   ],
   "source": [
    "jsonDatos = {\"nombre\": \"Manuel\", \"matriculado\": False, \"Edad\":41,\"ID\": \"#001\"}\n",
    "import json\n",
    "datosjson = json.dumps(jsonDatos)\n",
    "print(datosjson)"
   ]
  },
  {
   "cell_type": "markdown",
   "metadata": {},
   "source": [
    "### Ejemplo de programa\n",
    "Se va a considerar el siguiente programa:\n",
    "* Leer desde teclado una ciudad.\n",
    "* Llamar a la API de geocodificacion de Google. Podéis documentarios aquí https://developers.google.com/maps/documentation/geocoding/intro?hl=es-419\n",
    "* Extraer la información en formato JSON."
   ]
  },
  {
   "cell_type": "code",
   "execution_count": 16,
   "metadata": {},
   "outputs": [
    {
     "name": "stdout",
     "output_type": "stream",
     "text": [
      "Introduce la ciudad a mostrar: madrid\n",
      "Recuperando información de la url:  http://maps.googleapis.com/maps/api/geocode/json?sensor=false&address=madrid\n",
      "Recuperados 279  caracteres\n",
      "{\n",
      "    \"error_message\": \"Keyless access to Google Maps Platform is deprecated. Please use an API key with all your API calls to avoid service interruption. For further details please refer to http://g.co/dev/maps-no-account\",\n",
      "    \"results\": [],\n",
      "    \"status\": \"OVER_QUERY_LIMIT\"\n",
      "}\n"
     ]
    },
    {
     "ename": "IndexError",
     "evalue": "list index out of range",
     "output_type": "error",
     "traceback": [
      "\u001b[1;31m---------------------------------------------------------------------------\u001b[0m",
      "\u001b[1;31mIndexError\u001b[0m                                Traceback (most recent call last)",
      "\u001b[1;32m<ipython-input-16-aeb1c035f767>\u001b[0m in \u001b[0;36m<module>\u001b[1;34m\u001b[0m\n\u001b[0;32m     25\u001b[0m     \u001b[0mprint\u001b[0m\u001b[1;33m(\u001b[0m\u001b[0mjson\u001b[0m\u001b[1;33m.\u001b[0m\u001b[0mdumps\u001b[0m\u001b[1;33m(\u001b[0m\u001b[0mjs\u001b[0m\u001b[1;33m,\u001b[0m \u001b[0mindent\u001b[0m\u001b[1;33m=\u001b[0m\u001b[1;36m4\u001b[0m\u001b[1;33m)\u001b[0m\u001b[1;33m)\u001b[0m\u001b[1;33m\u001b[0m\u001b[1;33m\u001b[0m\u001b[0m\n\u001b[0;32m     26\u001b[0m \u001b[1;33m\u001b[0m\u001b[0m\n\u001b[1;32m---> 27\u001b[1;33m     \u001b[0mlat\u001b[0m \u001b[1;33m=\u001b[0m \u001b[0mjs\u001b[0m\u001b[1;33m[\u001b[0m\u001b[1;34m\"results\"\u001b[0m\u001b[1;33m]\u001b[0m\u001b[1;33m[\u001b[0m\u001b[1;36m0\u001b[0m\u001b[1;33m]\u001b[0m\u001b[1;33m[\u001b[0m\u001b[1;34m\"geometry\"\u001b[0m\u001b[1;33m]\u001b[0m\u001b[1;33m[\u001b[0m\u001b[1;34m\"location\"\u001b[0m\u001b[1;33m]\u001b[0m\u001b[1;33m[\u001b[0m\u001b[1;34m\"lat\"\u001b[0m\u001b[1;33m]\u001b[0m\u001b[1;33m\u001b[0m\u001b[1;33m\u001b[0m\u001b[0m\n\u001b[0m\u001b[0;32m     28\u001b[0m     \u001b[0mlng\u001b[0m \u001b[1;33m=\u001b[0m \u001b[0mjs\u001b[0m\u001b[1;33m[\u001b[0m\u001b[1;34m\"results\"\u001b[0m\u001b[1;33m]\u001b[0m\u001b[1;33m[\u001b[0m\u001b[1;36m0\u001b[0m\u001b[1;33m]\u001b[0m\u001b[1;33m[\u001b[0m\u001b[1;34m\"geometry\"\u001b[0m\u001b[1;33m]\u001b[0m\u001b[1;33m[\u001b[0m\u001b[1;34m\"location\"\u001b[0m\u001b[1;33m]\u001b[0m\u001b[1;33m[\u001b[0m\u001b[1;34m\"lng\"\u001b[0m\u001b[1;33m]\u001b[0m\u001b[1;33m\u001b[0m\u001b[1;33m\u001b[0m\u001b[0m\n\u001b[0;32m     29\u001b[0m     \u001b[0mprint\u001b[0m\u001b[1;33m(\u001b[0m\u001b[1;34m'lat'\u001b[0m\u001b[1;33m,\u001b[0m \u001b[0mlat\u001b[0m\u001b[1;33m,\u001b[0m\u001b[1;34m'lng'\u001b[0m\u001b[1;33m,\u001b[0m\u001b[0mlng\u001b[0m\u001b[1;33m)\u001b[0m\u001b[1;33m\u001b[0m\u001b[1;33m\u001b[0m\u001b[0m\n",
      "\u001b[1;31mIndexError\u001b[0m: list index out of range"
     ]
    }
   ],
   "source": [
    "import urllib.parse\n",
    "import urllib.request\n",
    "import json\n",
    "import sys\n",
    "\n",
    "serviceurl = \"http://maps.googleapis.com/maps/api/geocode/json?\"\n",
    "while True:\n",
    "    address = input('Introduce la ciudad a mostrar: ')\n",
    "    if len(address) < 1: break\n",
    "        \n",
    "    url = serviceurl + urllib.parse.urlencode({'sensor': 'false', 'address': address})\n",
    "    print(\"Recuperando información de la url: \", url)\n",
    "    uh = urllib.request.urlopen(url)\n",
    "    data = uh.read()\n",
    "    print(\"Recuperados\", len(data), \" caracteres\")\n",
    "    \n",
    "#     try: \n",
    "    js = json.loads(data)\n",
    "#     except: js = None\n",
    "#     if \"status\" not in js or js['status'] != 'OK':\n",
    "#         print(\"*****NO SE HA PODIDO RECUPEAR LA INFORMACIÓN*****\")\n",
    "#         print(data)\n",
    "#         continue\n",
    "        \n",
    "    print(json.dumps(js, indent=4))\n",
    "    \n",
    "    lat = js[\"results\"][0][\"geometry\"][\"location\"][\"lat\"]\n",
    "    lng = js[\"results\"][0][\"geometry\"][\"location\"][\"lng\"]\n",
    "    print('lat', lat,'lng',lng)\n",
    "    location = js[\"results\"][0][\"formatted_address\"]\n",
    "    print(location)\n",
    "    sys.exit()\n"
   ]
  },
  {
   "cell_type": "markdown",
   "metadata": {
    "collapsed": true
   },
   "source": [
    "# XML"
   ]
  },
  {
   "cell_type": "markdown",
   "metadata": {},
   "source": [
    "#### Empleando el paquete SAX"
   ]
  },
  {
   "cell_type": "code",
   "execution_count": 9,
   "metadata": {
    "code_folding": [
     2,
     8,
     10,
     15,
     24
    ]
   },
   "outputs": [],
   "source": [
    "import xml.sax\n",
    "class ManejadorCatalago (xml.sax.ContentHandler):\n",
    "    def __init__(self):\n",
    "        self.Datos = \"\"\n",
    "        self.titulo = \"\"\n",
    "        self.fecha = \"\"\n",
    "        self.autor = \"\"\n",
    "        \n",
    "    def startElement(self,etiqueta,atributos):\n",
    "        self.Datos = etiqueta\n",
    "        if etiqueta == \"Libro\":\n",
    "            print(\"*** LIBRO ***\")\n",
    "            isbn=atributos[\"isbn\"]\n",
    "            print(\"isbn:\",isbn)\n",
    "    \n",
    "    def endElement(self,etiqueta):\n",
    "        if self.Datos == \"titulo\":\n",
    "            print(\"Titulo:\",self.titulo)\n",
    "        elif self.Datos == \"fecha\":\n",
    "            print(\"Fecha:\", self.fecha)\n",
    "        elif self.Datos == \"autor\":\n",
    "            print(\"Autor:\", self.autor)\n",
    "        self.Datos=\"\"\n",
    "    \n",
    "    def characters(self, contenido):\n",
    "        if self.Datos == \"titulo\":\n",
    "            self.titulo = contenido\n",
    "        elif self.Datos == \"fecha\":\n",
    "            self.fecha = contenido\n",
    "        elif self.Datos == \"autor\":\n",
    "            self.autor = contenido\n"
   ]
  },
  {
   "cell_type": "markdown",
   "metadata": {},
   "source": [
    "#### Empleando el paquete DOM"
   ]
  },
  {
   "cell_type": "code",
   "execution_count": 10,
   "metadata": {},
   "outputs": [
    {
     "name": "stdout",
     "output_type": "stream",
     "text": [
      "**** LIBRO ****\n",
      "isbn: 0-596-00128-2\n",
      "Titulo: Python y XML\n",
      "Fecha: Diciembre 2001\n",
      "Autor: Pepito Perez\n",
      "**** LIBRO ****\n",
      "isbn: 0-596-15810-6\n",
      "Titulo: ProgramaciÃ³n avanzada de XML\n",
      "Fecha: Octubre 2010\n",
      "Autor: Juan Garcia\n",
      "**** LIBRO ****\n",
      "isbn: 0-596-15806-8\n",
      "Titulo: Aprendiendo Java\n",
      "Fecha: Septiembre 2009\n",
      "Autor: Juan Garcia\n",
      "**** LIBRO ****\n",
      "isbn: 9781788621878\n",
      "Titulo: R Data Analysis Projects\n",
      "Fecha: Noviembre 2017\n",
      "Autor: Gopi Subramanian\n",
      "**** LIBRO ****\n",
      "isbn: 9781788290678\n",
      "Titulo: Statistics for Data Science\n",
      "Fecha: Noviembre 2017\n",
      "Autor: James D. Miller\n",
      "**** LIBRO ****\n",
      "isbn: 9781783982608\n",
      "Titulo: Mastering MongoDB 3.x\n",
      "Fecha: Noviembre 2017\n",
      "Autor: Alex Giamas\n",
      "**** LIBRO ****\n",
      "isbn: 9781787286382\n",
      "Titulo: Scikit-learn Cookbook - Second Edition\n",
      "Fecha: Noviembre 2017\n",
      "Autor: Julian Avila\n"
     ]
    }
   ],
   "source": [
    "from xml.dom.minidom import parse\n",
    "import xml.dom.minidom\n",
    "\n",
    "ArbolDOM = xml.dom.minidom.parse(\"catalogos.xml\")\n",
    "catalogo = ArbolDOM.documentElement\n",
    "libros = catalogo.getElementsByTagName(\"Libro\")\n",
    "for libro in libros:\n",
    "    print(\"**** LIBRO ****\")\n",
    "    if libro.hasAttribute(\"isbn\"):\n",
    "        print(\"isbn:\", libro.getAttribute(\"isbn\"))\n",
    "    Titulo = libro.getElementsByTagName(\"titulo\")[0]\n",
    "    print(\"Titulo:\",Titulo.childNodes[0].data)\n",
    "    Fecha = libro.getElementsByTagName(\"fecha\")[0]\n",
    "    print(\"Fecha:\",Fecha.childNodes[0].data)\n",
    "    Autor = libro.getElementsByTagName(\"autor\")[0]\n",
    "    print(\"Autor:\",Autor.childNodes[0].data)"
   ]
  },
  {
   "cell_type": "markdown",
   "metadata": {},
   "source": [
    "#### Empleando el paquete ElementTree"
   ]
  },
  {
   "cell_type": "markdown",
   "metadata": {},
   "source": [
    "Método open()"
   ]
  },
  {
   "cell_type": "code",
   "execution_count": 18,
   "metadata": {},
   "outputs": [
    {
     "name": "stdout",
     "output_type": "stream",
     "text": [
      "<xml.etree.ElementTree.ElementTree object at 0x00000199D668D6D8>\n"
     ]
    }
   ],
   "source": [
    "#Método open()\n",
    "from xml.etree import ElementTree\n",
    "\n",
    "f = open(\"catalogos.xml\", \"rt\")\n",
    "arbol = ElementTree.parse(f)\n",
    "print(arbol)\n"
   ]
  },
  {
   "cell_type": "markdown",
   "metadata": {},
   "source": [
    "Metodo iter()"
   ]
  },
  {
   "cell_type": "code",
   "execution_count": 19,
   "metadata": {},
   "outputs": [
    {
     "name": "stdout",
     "output_type": "stream",
     "text": [
      "catalogo {}\n",
      "Libro {'isbn': '0-596-00128-2'}\n",
      "titulo {}\n",
      "fecha {}\n",
      "autor {}\n",
      "Libro {'isbn': '0-596-15810-6'}\n",
      "titulo {}\n",
      "fecha {}\n",
      "autor {}\n",
      "Libro {'isbn': '0-596-15806-8'}\n",
      "titulo {}\n",
      "fecha {}\n",
      "autor {}\n",
      "Libro {'isbn': '9781788621878'}\n",
      "titulo {}\n",
      "fecha {}\n",
      "autor {}\n",
      "Libro {'isbn': '9781788290678'}\n",
      "titulo {}\n",
      "fecha {}\n",
      "autor {}\n",
      "Libro {'isbn': '9781783982608'}\n",
      "titulo {}\n",
      "fecha {}\n",
      "autor {}\n",
      "Libro {'isbn': '9781787286382'}\n",
      "titulo {}\n",
      "fecha {}\n",
      "autor {}\n"
     ]
    }
   ],
   "source": [
    "#Metodo iter()\n",
    "from xml.etree import ElementTree\n",
    "\n",
    "f = open(\"catalogos.xml\", \"rt\")\n",
    "arbol = ElementTree.parse(f)\n",
    "for nodo in arbol.iter():\n",
    "    print(nodo.tag, nodo.attrib)\n"
   ]
  },
  {
   "cell_type": "code",
   "execution_count": 20,
   "metadata": {},
   "outputs": [
    {
     "name": "stdout",
     "output_type": "stream",
     "text": [
      "Libro 1  con isbn:  0-596-00128-2\n",
      "Libro 2  con isbn:  0-596-15810-6\n",
      "Libro 3  con isbn:  0-596-15806-8\n",
      "Libro 4  con isbn:  9781788621878\n",
      "Libro 5  con isbn:  9781788290678\n",
      "Libro 6  con isbn:  9781783982608\n",
      "Libro 7  con isbn:  9781787286382\n"
     ]
    }
   ],
   "source": [
    "#Metodo iter()\n",
    "from xml.etree import ElementTree\n",
    "\n",
    "f = open(\"catalogos.xml\", \"rt\")\n",
    "arbol = ElementTree.parse(f)\n",
    "i = 1\n",
    "for nodo in arbol.iter(\"Libro\"):\n",
    "    isbn = nodo.attrib.get(\"isbn\")\n",
    "    print(nodo.tag, i,\" con isbn: \", isbn)\n",
    "    i = i+1\n"
   ]
  },
  {
   "cell_type": "markdown",
   "metadata": {},
   "source": [
    "Iterar desde hijos"
   ]
  },
  {
   "cell_type": "code",
   "execution_count": 21,
   "metadata": {},
   "outputs": [
    {
     "name": "stdout",
     "output_type": "stream",
     "text": [
      "catalogo   {}\n",
      "Libro   {'isbn': '0-596-00128-2'}\n",
      "Libro   {'isbn': '0-596-15810-6'}\n",
      "Libro   {'isbn': '0-596-15806-8'}\n",
      "Libro   {'isbn': '9781788621878'}\n",
      "Libro   {'isbn': '9781788290678'}\n",
      "Libro   {'isbn': '9781783982608'}\n",
      "Libro   {'isbn': '9781787286382'}\n"
     ]
    }
   ],
   "source": [
    "#Iterar desde hijos\n",
    "\n",
    "import xml.etree.ElementTree as ET\n",
    "arbol = ET.parse(\"catalogos.xml\")\n",
    "raiz = arbol.getroot()\n",
    "print(raiz.tag, \" \", raiz.attrib)\n",
    "for hijo in raiz:\n",
    "    print(hijo.tag, \" \", hijo.attrib)"
   ]
  },
  {
   "cell_type": "markdown",
   "metadata": {},
   "source": [
    "Acceso indexado"
   ]
  },
  {
   "cell_type": "code",
   "execution_count": 22,
   "metadata": {},
   "outputs": [
    {
     "name": "stdout",
     "output_type": "stream",
     "text": [
      "Titulo : Python y XML\n"
     ]
    }
   ],
   "source": [
    "#Acceso indexado\n",
    "import xml.etree.ElementTree as ET\n",
    "arbol = ET.parse(\"catalogos.xml\")\n",
    "raiz = arbol.getroot()\n",
    "print(\"Titulo :\", raiz[0][0].text)"
   ]
  },
  {
   "cell_type": "markdown",
   "metadata": {},
   "source": [
    "Metodo findall()"
   ]
  },
  {
   "cell_type": "code",
   "execution_count": 23,
   "metadata": {},
   "outputs": [
    {
     "name": "stdout",
     "output_type": "stream",
     "text": [
      "Titulo:  1 Python y XML\n",
      "Titulo:  2 ProgramaciÃÂ³n avanzada de XML\n",
      "Titulo:  3 Aprendiendo Java\n",
      "Titulo:  4 R Data Analysis Projects\n",
      "Titulo:  5 Statistics for Data Science\n",
      "Titulo:  6 Mastering MongoDB 3.x\n",
      "Titulo:  7 Scikit-learn Cookbook - Second Edition\n"
     ]
    }
   ],
   "source": [
    "#Metodo findall()\n",
    "from xml.etree import ElementTree\n",
    "\n",
    "f = open(\"catalogos.xml\", \"rt\")\n",
    "arbol = ElementTree.parse(f)\n",
    "i = 1\n",
    "for nodo in arbol.findall(\"./Libro/titulo\"):\n",
    "    print(\"Titulo: \", i, nodo.text)\n",
    "    i = i +1"
   ]
  },
  {
   "cell_type": "markdown",
   "metadata": {},
   "source": [
    "Si queremos las fechas"
   ]
  },
  {
   "cell_type": "code",
   "execution_count": 24,
   "metadata": {},
   "outputs": [
    {
     "name": "stdout",
     "output_type": "stream",
     "text": [
      "Titulo:  1 Diciembre 2001\n",
      "Titulo:  2 Octubre 2010\n",
      "Titulo:  3 Septiembre 2009\n",
      "Titulo:  4 Noviembre 2017\n",
      "Titulo:  5 Noviembre 2017\n",
      "Titulo:  6 Noviembre 2017\n",
      "Titulo:  7 Noviembre 2017\n"
     ]
    }
   ],
   "source": [
    "from xml.etree import ElementTree\n",
    "\n",
    "f = open(\"catalogos.xml\", \"rt\")\n",
    "arbol = ElementTree.parse(f)\n",
    "i = 1\n",
    "for nodo in arbol.findall(\"./Libro/fecha\"):\n",
    "    print(\"Titulo: \", i, nodo.text)\n",
    "    i = i +1"
   ]
  },
  {
   "cell_type": "markdown",
   "metadata": {},
   "source": [
    "Metodo iterparse()"
   ]
  },
  {
   "cell_type": "code",
   "execution_count": 25,
   "metadata": {},
   "outputs": [
    {
     "name": "stdout",
     "output_type": "stream",
     "text": [
      "***LIBRO***\n",
      "isbn: 0-596-00128-2\n",
      "Titulo:  Python y XML\n",
      "Fecha:  Diciembre 2001\n",
      "Autor:  Pepito Perez\n",
      "***LIBRO***\n",
      "isbn: 0-596-15810-6\n",
      "Titulo:  ProgramaciÃ³n avanzada de XML\n",
      "Fecha:  Octubre 2010\n",
      "Autor:  Juan Garcia\n",
      "***LIBRO***\n",
      "isbn: 0-596-15806-8\n",
      "Titulo:  Aprendiendo Java\n",
      "Fecha:  Septiembre 2009\n",
      "Autor:  Juan Garcia\n",
      "***LIBRO***\n",
      "isbn: 9781788621878\n",
      "Titulo:  R Data Analysis Projects\n",
      "Fecha:  Noviembre 2017\n",
      "Autor:  Gopi Subramanian\n",
      "***LIBRO***\n",
      "isbn: 9781788290678\n",
      "Titulo:  Statistics for Data Science\n",
      "Fecha:  Noviembre 2017\n",
      "Autor:  James D. Miller\n",
      "***LIBRO***\n",
      "isbn: 9781783982608\n",
      "Titulo:  Mastering MongoDB 3.x\n",
      "Fecha:  Noviembre 2017\n",
      "Autor:  Alex Giamas\n",
      "***LIBRO***\n",
      "isbn: 9781787286382\n",
      "Titulo:  Scikit-learn Cookbook - Second Edition\n",
      "Fecha:  Noviembre 2017\n",
      "Autor:  Julian Avila\n"
     ]
    }
   ],
   "source": [
    "#Metodo iterparse()\n",
    "from xml.etree.ElementTree import iterparse\n",
    "\n",
    "for (event, element) in iterparse(\"catalogos.xml\", ('start', 'end')):\n",
    "    if event == 'start':\n",
    "        if element.tag == \"Libro\":\n",
    "            print(\"***LIBRO***\")\n",
    "            print(\"isbn:\",element.attrib[\"isbn\"])\n",
    "    \n",
    "    if event == \"end\":\n",
    "        if element.tag == \"titulo\":\n",
    "            print(\"Titulo: \", element.text)\n",
    "        if element.tag == \"fecha\":\n",
    "            print(\"Fecha: \", element.text)\n",
    "        if element.tag == \"autor\":\n",
    "            print(\"Autor: \", element.text)"
   ]
  },
  {
   "cell_type": "markdown",
   "metadata": {
    "collapsed": true
   },
   "source": [
    "Modificación de elementos con fromstring()"
   ]
  },
  {
   "cell_type": "code",
   "execution_count": 26,
   "metadata": {},
   "outputs": [
    {
     "name": "stdout",
     "output_type": "stream",
     "text": [
      "***LIBRO***\n",
      "isbn:  0-596-00128-2\n",
      "Titulo:  Python y XML\n",
      "Fecha:  Diciembre 2001\n",
      "Autor:  Pepito Perez\n",
      "***LIBRO***\n",
      "isbn:  0-596-15810-6\n",
      "Titulo:  ProgramaciÃ³n avanzada de XML\n",
      "Fecha:  Octubre 2010\n",
      "Autor:  Juan Garcia\n",
      "***LIBRO***\n",
      "isbn:  0-596-15806-8\n",
      "Titulo:  Aprendiendo Java\n",
      "Fecha:  Septiembre 2009\n",
      "Autor:  Juan Garcia\n",
      "***LIBRO***\n",
      "isbn:  9781788621878\n",
      "Titulo:  R Data Analysis Projects\n",
      "Fecha:  Noviembre 2017\n",
      "Autor:  Gopi Subramanian\n",
      "***LIBRO***\n",
      "isbn:  9781788290678\n",
      "Titulo:  Statistics for Data Science\n",
      "Fecha:  Noviembre 2017\n",
      "Autor:  James D. Miller\n",
      "***LIBRO***\n",
      "isbn:  9781783982608\n",
      "Titulo:  Mastering MongoDB 3.x\n",
      "Fecha:  Noviembre 2017\n",
      "Autor:  Alex Giamas\n",
      "***LIBRO***\n",
      "isbn:  9781787286382\n",
      "Titulo:  Scikit-learn Cookbook - Second Edition\n",
      "Fecha:  Noviembre 2017\n",
      "Autor:  Julian Avila\n"
     ]
    }
   ],
   "source": [
    "#Modificación de elementos con fromstring()\n",
    "import xml.etree.ElementTree as ET\n",
    "cadena = '''\n",
    "<catalogo>\n",
    "\t<Libro isbn=\"0-596-00128-2\">\n",
    "\t\t<titulo>Python y XML</titulo>\n",
    "\t\t<fecha>Diciembre 2001</fecha>\n",
    "\t\t<autor>Pepito Perez</autor>\n",
    "\t</Libro>\n",
    "\t<Libro isbn=\"0-596-15810-6\">\n",
    "\t\t<titulo>ProgramaciÃ³n avanzada de XML</titulo>\n",
    "\t\t<fecha>Octubre 2010</fecha>\n",
    "\t\t<autor>Juan Garcia</autor>\n",
    "\t</Libro>\n",
    "\t<Libro isbn=\"0-596-15806-8\">\n",
    "\t\t<titulo>Aprendiendo Java</titulo>\n",
    "\t\t<fecha>Septiembre 2009</fecha>\n",
    "\t\t<autor>Juan Garcia</autor>\n",
    "\t</Libro>\n",
    "\t<Libro isbn=\"9781788621878\">\n",
    "\t\t<titulo>R Data Analysis Projects</titulo>\n",
    "\t\t<fecha>Noviembre 2017</fecha>\n",
    "\t\t<autor>Gopi Subramanian</autor>\n",
    "\t</Libro>\n",
    "\t<Libro isbn=\"9781788290678\">\n",
    "\t\t<titulo>Statistics for Data Science</titulo>\n",
    "\t\t<fecha>Noviembre 2017</fecha>\n",
    "\t\t<autor>James D. Miller</autor>\n",
    "\t</Libro>\n",
    "\t<Libro isbn=\"9781783982608\">\n",
    "\t\t<titulo>Mastering MongoDB 3.x</titulo>\n",
    "\t\t<fecha>Noviembre 2017</fecha>\n",
    "\t\t<autor>Alex Giamas</autor>\n",
    "\t</Libro>\t\n",
    "\t<Libro isbn=\"9781787286382\">\n",
    "\t\t<titulo>Scikit-learn Cookbook - Second Edition</titulo>\n",
    "\t\t<fecha>Noviembre 2017</fecha>\n",
    "\t\t<autor>Julian Avila</autor>\n",
    "\t</Libro>\t\n",
    "</catalogo>\n",
    "'''\n",
    "doc = ET.fromstring(cadena)\n",
    "lista = doc.findall(\"Libro\")\n",
    "for i in lista:\n",
    "    print(\"***LIBRO***\")\n",
    "    print(\"isbn: \",i.get(\"isbn\"))\n",
    "    print(\"Titulo: \",i.find(\"titulo\").text)\n",
    "    print(\"Fecha: \",i.find(\"fecha\").text)\n",
    "    print(\"Autor: \",i.find(\"autor\").text)"
   ]
  },
  {
   "cell_type": "markdown",
   "metadata": {},
   "source": [
    "Modificar XML"
   ]
  },
  {
   "cell_type": "code",
   "execution_count": 27,
   "metadata": {
    "collapsed": true
   },
   "outputs": [],
   "source": [
    "#Modificación de XML\n",
    "import xml.etree.ElementTree as ET\n",
    "arbol=ET.parse(\"catalogos.xml\")\n",
    "i = 1\n",
    "for libro in arbol.iter(\"Libro\"):\n",
    "    cadena = str(i)\n",
    "    libro.set(\"orden\",cadena)\n",
    "    libro.set(\"ejemplares\",\"si\")\n",
    "    editorial = ET.Element(\"editorial\")\n",
    "    editorial.text=\"Anaya\"\n",
    "    libro.append(editorial)\n",
    "    i = i+1\n",
    "    \n",
    "arbol.write(\"catalogos2.xml\")"
   ]
  },
  {
   "cell_type": "markdown",
   "metadata": {},
   "source": [
    "Borrar atributos con remove()"
   ]
  },
  {
   "cell_type": "code",
   "execution_count": 28,
   "metadata": {
    "collapsed": true
   },
   "outputs": [],
   "source": [
    "#Borrar atributos remove()\n",
    "import xml.etree.ElementTree as ET\n",
    "arbol = ET.parse(\"catalogos2.xml\")\n",
    "raiz = arbol.getroot()\n",
    "for libro in raiz.iter(\"Libro\"):\n",
    "    orden = int(libro.get(\"orden\"))\n",
    "    if orden > 3:\n",
    "        raiz.remove(libro)\n",
    "\n",
    "arbol.write(\"catalogos3.xml\")"
   ]
  },
  {
   "cell_type": "markdown",
   "metadata": {},
   "source": [
    "Como se puede comprobar la orden remove(), puede ser un tanto confusa, y es que, trabaja a nivel de instancia, es decir, hay que ver la función remove como un punturo que se va moviendo en cada iteracción. Si desglosamos la orden anterior quedaría de la siguiente forma:\n",
    "* Nos situamos en la primera orden > 3, que es 4, lo eliminamos\n",
    "* El siguiente elemento de la lista, ya que no se puede operar sobre un elemento vació es 5. La iteracción continua y desde 5 se vuelve a buscar la siguiente orden > 3, que es 6, se elimina\n",
    "* La iteracción continua y nos situaos en 7, al no haber más elementos la sentencia if orden > 3 finaliza.\n",
    "\n",
    "Para verlo con otro ejemplo, podéis consultar el siguiente fragmento de código."
   ]
  },
  {
   "cell_type": "code",
   "execution_count": 29,
   "metadata": {},
   "outputs": [
    {
     "name": "stdout",
     "output_type": "stream",
     "text": [
      "[2, 4, 6, 8]\n"
     ]
    }
   ],
   "source": [
    "lista = [1,2,3,4,5,6,7,8]\n",
    "for i in lista:\n",
    "    lista.remove(i)\n",
    "print(lista)"
   ]
  },
  {
   "cell_type": "markdown",
   "metadata": {},
   "source": [
    "Sin embargo, cuando la sentencia apunta directamente a un nodo se produce sin ningún problema, vamos a borrar ahora los elementos que sean == 4."
   ]
  },
  {
   "cell_type": "code",
   "execution_count": 30,
   "metadata": {
    "collapsed": true
   },
   "outputs": [],
   "source": [
    "#Borrar atributos remove()\n",
    "import xml.etree.ElementTree as ET\n",
    "arbol = ET.parse(\"catalogos2.xml\")\n",
    "raiz = arbol.getroot()\n",
    "for libro in raiz.iter(\"Libro\"):\n",
    "    orden = int(libro.get(\"orden\"))\n",
    "    if orden == 4:\n",
    "        raiz.remove(libro)\n",
    "\n",
    "arbol.write(\"catalogos4.xml\")"
   ]
  },
  {
   "cell_type": "markdown",
   "metadata": {},
   "source": [
    "Creación de un XML desde 0"
   ]
  },
  {
   "cell_type": "code",
   "execution_count": 31,
   "metadata": {},
   "outputs": [
    {
     "name": "stdout",
     "output_type": "stream",
     "text": [
      "<?xml version=\"1.0\" ?>\n",
      "<Catalogo>\n",
      " <Libro>\n",
      "  <Titulo>Python y XML</Titulo>\n",
      "  <Fecha>22/11/2017</Fecha>\n",
      "  <Autor>Pepito Perez</Autor>\n",
      " </Libro>\n",
      " <Libro>\n",
      "  <Titulo>Statistics with R</Titulo>\n",
      "  <Fecha>14/05/2014</Fecha>\n",
      "  <Autor>Trevor Hastie</Autor>\n",
      " </Libro>\n",
      "</Catalogo>\n",
      "\n"
     ]
    }
   ],
   "source": [
    "from xml.etree.ElementTree import Element, SubElement, Comment\n",
    "from xml.etree import ElementTree\n",
    "from xml.dom import minidom\n",
    "\n",
    "def prettify(elem):\n",
    "    version_codificacion = ElementTree.tostring(elem, 'utf-8')\n",
    "    reparsed = minidom.parseString(version_codificacion)\n",
    "    return reparsed.toprettyxml(indent = \" \")\n",
    "#Hasta aquí tendriamos un XML con únicamente la cabecera, ahora lo escribimos.\n",
    "\n",
    "#Elemento raiz del XML\n",
    "raiz = Element(\"Catalogo\")\n",
    "\n",
    "#Sub-Elementos 1\n",
    "Libro = SubElement(raiz, \"Libro\")\n",
    "Titulo = SubElement(Libro, \"Titulo\")\n",
    "Titulo.text = \"Python y XML\"\n",
    "Fecha = SubElement(Libro, \"Fecha\")\n",
    "Fecha.text = \"22/11/2017\"\n",
    "Autor  = SubElement(Libro, \"Autor\")\n",
    "Autor.text = \"Pepito Perez\"\n",
    "\n",
    "#Sub-Elemento 2\n",
    "Libro = SubElement(raiz, \"Libro\")\n",
    "Titulo = SubElement(Libro, \"Titulo\")\n",
    "Titulo.text = \"Statistics with R\"\n",
    "Fecha = SubElement(Libro, \"Fecha\")\n",
    "Fecha.text = \"14/05/2014\"\n",
    "Autor  = SubElement(Libro, \"Autor\")\n",
    "Autor.text = \"Trevor Hastie\"\n",
    "\n",
    "#Obtenemos el XML\n",
    "print(prettify(raiz))\n"
   ]
  },
  {
   "cell_type": "markdown",
   "metadata": {},
   "source": [
    "Modificación de atributos"
   ]
  },
  {
   "cell_type": "code",
   "execution_count": 32,
   "metadata": {},
   "outputs": [
    {
     "name": "stdout",
     "output_type": "stream",
     "text": [
      "<?xml version=\"1.0\" ?>\n",
      "<Catalogo version=\"1.0\">\n",
      " <Libro ejemplares=\"si\" isbn=\"123456789\" orden=\"1\">\n",
      "  <Titulo>Python y XML</Titulo>\n",
      "  <Fecha>22/11/2017</Fecha>\n",
      "  <Autor>Pepito Perez</Autor>\n",
      " </Libro>\n",
      " <Libro ejemplares=\"no\" isbn=\"987654321\" orden=\"2\">\n",
      "  <Titulo>Statistics with R</Titulo>\n",
      "  <Fecha>14/05/2014</Fecha>\n",
      "  <Autor>Trevor Hastie</Autor>\n",
      " </Libro>\n",
      "</Catalogo>\n",
      "\n"
     ]
    }
   ],
   "source": [
    "from xml.etree.ElementTree import Element, SubElement, Comment\n",
    "from xml.etree import ElementTree\n",
    "from xml.dom import minidom\n",
    "\n",
    "def prettify(elem):\n",
    "    version_codificacion = ElementTree.tostring(elem, 'utf-8')\n",
    "    reparsed = minidom.parseString(version_codificacion)\n",
    "    return reparsed.toprettyxml(indent = \" \")\n",
    "#Hasta aquí tendriamos un XML con únicamente la cabecera, ahora lo escribimos.\n",
    "\n",
    "#Elemento raiz del XML\n",
    "raiz = Element(\"Catalogo\")\n",
    "#Establecemos la versión de XML\n",
    "raiz.set(\"version\", \"1.0\")\n",
    "\n",
    "#Sub-Elementos 1\n",
    "Libro = SubElement(raiz, #Añadimos isbn\n",
    "                   \"Libro\", {\"orden\":\"1\", \"ejemplares\":\"si\", \"isbn\":\"123456789\",})\n",
    "Titulo = SubElement(Libro, \"Titulo\")\n",
    "Titulo.text = \"Python y XML\"\n",
    "Fecha = SubElement(Libro, \"Fecha\")\n",
    "Fecha.text = \"22/11/2017\"\n",
    "Autor  = SubElement(Libro, \"Autor\")\n",
    "Autor.text = \"Pepito Perez\"\n",
    "\n",
    "#Sub-Elemento 2\n",
    "Libro = SubElement(raiz, #Añadimos isbn\n",
    "                   \"Libro\", {\"orden\":\"2\", \"ejemplares\":\"no\", \"isbn\":\"987654321\",})\n",
    "Titulo = SubElement(Libro, \"Titulo\")\n",
    "Titulo.text = \"Statistics with R\"\n",
    "Fecha = SubElement(Libro, \"Fecha\")\n",
    "Fecha.text = \"14/05/2014\"\n",
    "Autor  = SubElement(Libro, \"Autor\")\n",
    "Autor.text = \"Trevor Hastie\"\n",
    "\n",
    "#Obtenemos el XML\n",
    "print(prettify(raiz))\n"
   ]
  },
  {
   "cell_type": "markdown",
   "metadata": {},
   "source": [
    "Añadir hijos"
   ]
  },
  {
   "cell_type": "code",
   "execution_count": 33,
   "metadata": {},
   "outputs": [
    {
     "name": "stdout",
     "output_type": "stream",
     "text": [
      "<?xml version=\"1.0\" ?>\n",
      "<Catalogo version=\"1.0\">\n",
      " <Libro ejemplares=\"si\" isbn=\"123456789\" orden=\"1\">\n",
      "  <titulo>Python y XML</titulo>\n",
      "  <fecha>22/11/2017</fecha>\n",
      "  <autor>Pepito Perez</autor>\n",
      " </Libro>\n",
      " <Libro ejemplares=\"no\" isbn=\"987654321\" orden=\"2\">\n",
      "  <titulo>Statistics with R</titulo>\n",
      "  <fecha>14/05/2014</fecha>\n",
      "  <autor>Trevor Hastie</autor>\n",
      " </Libro>\n",
      "</Catalogo>\n",
      "\n"
     ]
    }
   ],
   "source": [
    "from xml.etree.ElementTree import Element, SubElement, Comment, XML\n",
    "from xml.etree import ElementTree\n",
    "from xml.dom import minidom\n",
    "\n",
    "def prettify(elem):\n",
    "    version_codificacion = ElementTree.tostring(elem, 'utf-8')\n",
    "    reparsed = minidom.parseString(version_codificacion)\n",
    "    return reparsed.toprettyxml(indent = \" \")\n",
    "#Hasta aquí tendriamos un XML con únicamente la cabecera, ahora lo escribimos.\n",
    "\n",
    "#Elemento raiz del XML\n",
    "raiz = Element(\"Catalogo\")\n",
    "#Establecemos la versión de XML\n",
    "raiz.set(\"version\", \"1.0\")\n",
    "\n",
    "#Sub-Elementos 1\n",
    "Libro = SubElement(raiz, #Añadimos isbn\n",
    "                   \"Libro\", {\"orden\":\"1\", \"ejemplares\":\"si\", \"isbn\":\"123456789\",})\n",
    "#Añadimos como hijos el resto de etiquetas\n",
    "hijos = XML('''<hijos><titulo>Python y XML</titulo><fecha>22/11/2017</fecha><autor>Pepito Perez</autor></hijos>''')\n",
    "# Titulo = SubElement(Libro, \"Titulo\")\n",
    "# Titulo.text = \"Python y XML\"\n",
    "# Fecha = SubElement(Libro, \"Fecha\")\n",
    "# Fecha.text = \"22/11/2017\"\n",
    "# Autor  = SubElement(Libro, \"Autor\")\n",
    "# Autor.text = \"Pepito Perez\"\n",
    "\n",
    "#Anclamos los hijos a Libro | Sub-Elemtos 1\n",
    "Libro.extend(hijos)\n",
    "\n",
    "#Sub-Elemento 2\n",
    "Libro = SubElement(raiz, #Añadimos isbn\n",
    "                   \"Libro\", {\"orden\":\"2\", \"ejemplares\":\"no\", \"isbn\":\"987654321\",})\n",
    "#Añadimos como hijos el resto de etiquetas\n",
    "hijos = XML('''<hijos><titulo>Statistics with R</titulo><fecha>14/05/2014</fecha><autor>Trevor Hastie</autor></hijos>''')\n",
    "# Titulo = SubElement(Libro, \"Titulo\")\n",
    "# Titulo.text = \"Statistics with R\"\n",
    "# Fecha = SubElement(Libro, \"Fecha\")\n",
    "# Fecha.text = \"14/05/2014\"\n",
    "# Autor  = SubElement(Libro, \"Autor\")\n",
    "# Autor.text = \"Trevor Hastie\"\n",
    "\n",
    "#Anclamos los hijos a Libro | Sub-Elemtos 2\n",
    "Libro.extend(hijos)\n",
    "#Obtenemos el XML\n",
    "print(prettify(raiz))\n"
   ]
  },
  {
   "cell_type": "markdown",
   "metadata": {},
   "source": [
    "También se pueden ancar los hijos al nodo Libro pasando una lista"
   ]
  },
  {
   "cell_type": "code",
   "execution_count": 34,
   "metadata": {},
   "outputs": [
    {
     "name": "stdout",
     "output_type": "stream",
     "text": [
      "<?xml version=\"1.0\" ?>\n",
      "<Catalogo version=\"1.0\">\n",
      " <Libro ejemplares=\"si\" isbn=\"123456789\" orden=\"1\">\n",
      "  <Titulo>Python y XML</Titulo>\n",
      "  <Fecha>22/11/2017</Fecha>\n",
      "  <Autor>Pepito Perez</Autor>\n",
      "  <Titulo>Python y XML</Titulo>\n",
      "  <Fecha>22/11/2017</Fecha>\n",
      "  <Autor>Pepito Perez</Autor>\n",
      " </Libro>\n",
      " <Libro ejemplares=\"no\" isbn=\"987654321\" orden=\"2\">\n",
      "  <Titulo>Statistics with R</Titulo>\n",
      "  <Fecha>14/05/2014</Fecha>\n",
      "  <Autor>Trevor Hastie</Autor>\n",
      "  <Titulo>Statistics with R</Titulo>\n",
      "  <Fecha>14/05/2014</Fecha>\n",
      "  <Autor>Trevor Hastie</Autor>\n",
      " </Libro>\n",
      "</Catalogo>\n",
      "\n"
     ]
    }
   ],
   "source": [
    "from xml.etree.ElementTree import Element, SubElement, Comment, XML\n",
    "from xml.etree import ElementTree\n",
    "from xml.dom import minidom\n",
    "\n",
    "def prettify(elem):\n",
    "    version_codificacion = ElementTree.tostring(elem, 'utf-8')\n",
    "    reparsed = minidom.parseString(version_codificacion)\n",
    "    return reparsed.toprettyxml(indent = \" \")\n",
    "#Hasta aquí tendriamos un XML con únicamente la cabecera, ahora lo escribimos.\n",
    "\n",
    "#Elemento raiz del XML\n",
    "raiz = Element(\"Catalogo\")\n",
    "#Establecemos la versión de XML\n",
    "raiz.set(\"version\", \"1.0\")\n",
    "\n",
    "#Sub-Elementos 1\n",
    "Libro = SubElement(raiz, #Añadimos isbn\n",
    "                   \"Libro\", {\"orden\":\"1\", \"ejemplares\":\"si\", \"isbn\":\"123456789\",})\n",
    "Titulo = SubElement(Libro, \"Titulo\")\n",
    "Titulo.text = \"Python y XML\"\n",
    "Fecha = SubElement(Libro, \"Fecha\")\n",
    "Fecha.text = \"22/11/2017\"\n",
    "Autor  = SubElement(Libro, \"Autor\")\n",
    "Autor.text = \"Pepito Perez\"\n",
    "\n",
    "#Pasamos como lista los hijos | Sub-Elemtos 1\n",
    "hijos=[Titulo, Fecha, Autor]\n",
    "Libro.extend(hijos)\n",
    "\n",
    "#Sub-Elemento 2\n",
    "Libro = SubElement(raiz, #Añadimos isbn\n",
    "                   \"Libro\", {\"orden\":\"2\", \"ejemplares\":\"no\", \"isbn\":\"987654321\",})\n",
    "Titulo = SubElement(Libro, \"Titulo\")\n",
    "Titulo.text = \"Statistics with R\"\n",
    "Fecha = SubElement(Libro, \"Fecha\")\n",
    "Fecha.text = \"14/05/2014\"\n",
    "Autor  = SubElement(Libro, \"Autor\")\n",
    "Autor.text = \"Trevor Hastie\"\n",
    "\n",
    "#Pasamos como lista los hijos | Sub-Elemtos 2\n",
    "hijos=[Titulo, Fecha, Autor]\n",
    "Libro.extend(hijos)\n",
    "\n",
    "\n",
    "#Obtenemos el XML\n",
    "print(prettify(raiz))\n"
   ]
  },
  {
   "cell_type": "markdown",
   "metadata": {},
   "source": [
    "Escribir un archivo con write()"
   ]
  },
  {
   "cell_type": "code",
   "execution_count": 35,
   "metadata": {
    "collapsed": true
   },
   "outputs": [],
   "source": [
    "from xml.etree.ElementTree import Element, SubElement, Comment, XML, ElementTree\n",
    "\n",
    "\n",
    "#Elemento raiz del XML\n",
    "raiz = Element(\"Catalogo\")\n",
    "#Establecemos la versión de XML\n",
    "raiz.set(\"version\", \"1.0\")\n",
    "\n",
    "#Sub-Elementos 1\n",
    "Libro = SubElement(raiz, #Añadimos isbn\n",
    "                   \"Libro\", {\"orden\":\"1\", \"ejemplares\":\"si\", \"isbn\":\"123456789\",})\n",
    "Titulo = SubElement(Libro, \"Titulo\")\n",
    "Titulo.text = \"Python y XML\"\n",
    "Fecha = SubElement(Libro, \"Fecha\")\n",
    "Fecha.text = \"22/11/2017\"\n",
    "Autor  = SubElement(Libro, \"Autor\")\n",
    "Autor.text = \"Pepito Perez\"\n",
    "\n",
    "#Pasamos como lista los hijos | Sub-Elemtos 1\n",
    "hijos=[Titulo, Fecha, Autor]\n",
    "Libro.extend(hijos)\n",
    "\n",
    "#Sub-Elemento 2\n",
    "Libro = SubElement(raiz, #Añadimos isbn\n",
    "                   \"Libro\", {\"orden\":\"2\", \"ejemplares\":\"no\", \"isbn\":\"987654321\",})\n",
    "Titulo = SubElement(Libro, \"Titulo\")\n",
    "Titulo.text = \"Statistics with R\"\n",
    "Fecha = SubElement(Libro, \"Fecha\")\n",
    "Fecha.text = \"14/05/2014\"\n",
    "Autor  = SubElement(Libro, \"Autor\")\n",
    "Autor.text = \"Trevor Hastie\"\n",
    "\n",
    "#Pasamos como lista los hijos | Sub-Elemtos 2\n",
    "hijos=[Titulo, Fecha, Autor]\n",
    "Libro.extend(hijos)\n",
    "\n",
    "#Obtenemos el XML\n",
    "# print(prettify(raiz))\n",
    "ElementTree(raiz).write(\"catalogos5.xml\")\n"
   ]
  },
  {
   "cell_type": "markdown",
   "metadata": {},
   "source": [
    "Añadimos un sub-elemento vacío."
   ]
  },
  {
   "cell_type": "code",
   "execution_count": 36,
   "metadata": {},
   "outputs": [
    {
     "name": "stdout",
     "output_type": "stream",
     "text": [
      "xml\n",
      "<Catalogo version=\"1.0\"><Libro ejemplares=\"si\" isbn=\"123456789\" orden=\"1\"><Titulo>Python y XML</Titulo><Fecha>22/11/2017</Fecha><Autor>Pepito Perez</Autor><Titulo>Python y XML</Titulo><Fecha>22/11/2017</Fecha><Autor>Pepito Perez</Autor></Libro><Libro ejemplares=\"no\" isbn=\"987654321\" orden=\"2\"><Titulo>Statistics with R</Titulo><Fecha>14/05/2014</Fecha><Autor>Trevor Hastie</Autor><Titulo>Statistics with R</Titulo><Fecha>14/05/2014</Fecha><Autor>Trevor Hastie</Autor><vacio /></Libro></Catalogo>\n",
      "\n",
      "html\n",
      "<Catalogo version=\"1.0\"><Libro ejemplares=\"si\" isbn=\"123456789\" orden=\"1\"><Titulo>Python y XML</Titulo><Fecha>22/11/2017</Fecha><Autor>Pepito Perez</Autor><Titulo>Python y XML</Titulo><Fecha>22/11/2017</Fecha><Autor>Pepito Perez</Autor></Libro><Libro ejemplares=\"no\" isbn=\"987654321\" orden=\"2\"><Titulo>Statistics with R</Titulo><Fecha>14/05/2014</Fecha><Autor>Trevor Hastie</Autor><Titulo>Statistics with R</Titulo><Fecha>14/05/2014</Fecha><Autor>Trevor Hastie</Autor><vacio></vacio></Libro></Catalogo>\n",
      "\n",
      "text\n",
      "Python y XML22/11/2017Pepito PerezPython y XML22/11/2017Pepito PerezStatistics with R14/05/2014Trevor HastieStatistics with R14/05/2014Trevor Hastie\n",
      "\n"
     ]
    }
   ],
   "source": [
    "from xml.etree.ElementTree import Element, SubElement, Comment, XML, ElementTree\n",
    "import sys\n",
    "\n",
    "#Elemento raiz del XML\n",
    "raiz = Element(\"Catalogo\")\n",
    "#Establecemos la versión de XML\n",
    "raiz.set(\"version\", \"1.0\")\n",
    "\n",
    "#Sub-Elementos 1\n",
    "Libro = SubElement(raiz, #Añadimos isbn\n",
    "                   \"Libro\", {\"orden\":\"1\", \"ejemplares\":\"si\", \"isbn\":\"123456789\",})\n",
    "Titulo = SubElement(Libro, \"Titulo\")\n",
    "Titulo.text = \"Python y XML\"\n",
    "Fecha = SubElement(Libro, \"Fecha\")\n",
    "Fecha.text = \"22/11/2017\"\n",
    "Autor  = SubElement(Libro, \"Autor\")\n",
    "Autor.text = \"Pepito Perez\"\n",
    "\n",
    "#Pasamos como lista los hijos | Sub-Elemtos 1\n",
    "hijos=[Titulo, Fecha, Autor]\n",
    "Libro.extend(hijos)\n",
    "\n",
    "#Sub-Elemento 2\n",
    "Libro = SubElement(raiz, #Añadimos isbn\n",
    "                   \"Libro\", {\"orden\":\"2\", \"ejemplares\":\"no\", \"isbn\":\"987654321\",})\n",
    "Titulo = SubElement(Libro, \"Titulo\")\n",
    "Titulo.text = \"Statistics with R\"\n",
    "Fecha = SubElement(Libro, \"Fecha\")\n",
    "Fecha.text = \"14/05/2014\"\n",
    "Autor  = SubElement(Libro, \"Autor\")\n",
    "Autor.text = \"Trevor Hastie\"\n",
    "\n",
    "#Pasamos como lista los hijos | Sub-Elemtos 2\n",
    "hijos=[Titulo, Fecha, Autor]\n",
    "Libro.extend(hijos)\n",
    "#Añadimos el elemento vacío\n",
    "ElementoVacio = SubElement(Libro, \"vacio\")\n",
    "\n",
    "#Obtenemos el XML\n",
    "# print(prettify(raiz))\n",
    "# ElementTree(raiz).write(\"catalogos5.xml\")\n",
    "\n",
    "for metodo in [\"xml\", \"html\", \"text\"]: #Imprimimos el acrhivo en varias extensiones\n",
    "    print(metodo)\n",
    "    ElementTree(raiz).write(sys.stdout, method = metodo)\n",
    "    print(\"\\n\")\n"
   ]
  },
  {
   "cell_type": "markdown",
   "metadata": {},
   "source": [
    "# Caso paráctco\n",
    "## Función que escribe un diccionario en un fichero CSV, con el nombre que recibe."
   ]
  },
  {
   "cell_type": "code",
   "execution_count": 14,
   "metadata": {},
   "outputs": [],
   "source": [
    "def escribe(map, fileName):\n",
    "        outFile=open(fileName, \"w\")\n",
    "        outWriter = csv.writer(outFile)\n",
    "        for key in map:\n",
    "                outWriter.writerow([key,map.get(key)])\n",
    "        outFile.close()\n",
    "        print ('Archivo ' + fileName + ' creado con exito.')"
   ]
  },
  {
   "cell_type": "code",
   "execution_count": 12,
   "metadata": {
    "code_folding": []
   },
   "outputs": [],
   "source": [
    "# Función que, dada una columna, contabiliza las veces que aparece cada\n",
    "# término de esa columna en el archivo \"PitchingPost.csv\"\n",
    "def frecuency(column, fileName):\n",
    "        error = False\n",
    "        map = {}\n",
    "        try:\n",
    "                file=open(\"PitchingPost.csv\")\n",
    "        except IOError:\n",
    "                error = True\n",
    "                print (\"Error al intentar abrir el archivo \\\"PitchingPost.csv\\\".\")\n",
    "        if (error == False):\n",
    "                reader=csv.reader(file)\n",
    "                data=list(reader)\n",
    "                for i in range(column, len(data)):\n",
    "                        key=str(data[i][column]) \n",
    "                        if map.has_key(key):\n",
    "                                map[key]=map[key]+1\n",
    "                        else:\n",
    "                                map[key]=1\n",
    "\n",
    "                file.close()\n",
    "                escribe (map, fileName)"
   ]
  },
  {
   "cell_type": "code",
   "execution_count": 13,
   "metadata": {},
   "outputs": [
    {
     "ename": "AttributeError",
     "evalue": "'dict' object has no attribute 'has_key'",
     "output_type": "error",
     "traceback": [
      "\u001b[1;31m---------------------------------------------------------------------------\u001b[0m",
      "\u001b[1;31mAttributeError\u001b[0m                            Traceback (most recent call last)",
      "\u001b[1;32m<ipython-input-13-a9aeb1ce0a5c>\u001b[0m in \u001b[0;36m<module>\u001b[1;34m\u001b[0m\n\u001b[0;32m     22\u001b[0m                 \u001b[0moutFile\u001b[0m\u001b[1;33m.\u001b[0m\u001b[0mclose\u001b[0m\u001b[1;33m(\u001b[0m\u001b[1;33m)\u001b[0m\u001b[1;33m\u001b[0m\u001b[1;33m\u001b[0m\u001b[0m\n\u001b[0;32m     23\u001b[0m                 \u001b[0mprint\u001b[0m \u001b[1;33m(\u001b[0m\u001b[1;34m\"Archivo \\\"PitchingPost\\\" ordenado con exito.\"\u001b[0m\u001b[1;33m)\u001b[0m\u001b[1;33m\u001b[0m\u001b[1;33m\u001b[0m\u001b[0m\n\u001b[1;32m---> 24\u001b[1;33m \u001b[0mfrecuency\u001b[0m\u001b[1;33m(\u001b[0m\u001b[1;36m1\u001b[0m\u001b[1;33m,\u001b[0m \u001b[1;34m\"AcumAnnos.csv\"\u001b[0m\u001b[1;33m)\u001b[0m\u001b[1;33m\u001b[0m\u001b[1;33m\u001b[0m\u001b[0m\n\u001b[0m\u001b[0;32m     25\u001b[0m \u001b[0mfrecuency\u001b[0m\u001b[1;33m(\u001b[0m\u001b[1;36m0\u001b[0m\u001b[1;33m,\u001b[0m \u001b[1;34m\"AcumJugadores.csv\"\u001b[0m\u001b[1;33m)\u001b[0m\u001b[1;33m\u001b[0m\u001b[1;33m\u001b[0m\u001b[0m\n\u001b[0;32m     26\u001b[0m \u001b[0msort\u001b[0m\u001b[1;33m(\u001b[0m\u001b[1;33m)\u001b[0m\u001b[1;33m\u001b[0m\u001b[1;33m\u001b[0m\u001b[0m\n",
      "\u001b[1;32m<ipython-input-12-0ee8f958976d>\u001b[0m in \u001b[0;36mfrecuency\u001b[1;34m(column, fileName)\u001b[0m\n\u001b[0;32m     14\u001b[0m                 \u001b[1;32mfor\u001b[0m \u001b[0mi\u001b[0m \u001b[1;32min\u001b[0m \u001b[0mrange\u001b[0m\u001b[1;33m(\u001b[0m\u001b[0mcolumn\u001b[0m\u001b[1;33m,\u001b[0m \u001b[0mlen\u001b[0m\u001b[1;33m(\u001b[0m\u001b[0mdata\u001b[0m\u001b[1;33m)\u001b[0m\u001b[1;33m)\u001b[0m\u001b[1;33m:\u001b[0m\u001b[1;33m\u001b[0m\u001b[1;33m\u001b[0m\u001b[0m\n\u001b[0;32m     15\u001b[0m                         \u001b[0mkey\u001b[0m\u001b[1;33m=\u001b[0m\u001b[0mstr\u001b[0m\u001b[1;33m(\u001b[0m\u001b[0mdata\u001b[0m\u001b[1;33m[\u001b[0m\u001b[0mi\u001b[0m\u001b[1;33m]\u001b[0m\u001b[1;33m[\u001b[0m\u001b[0mcolumn\u001b[0m\u001b[1;33m]\u001b[0m\u001b[1;33m)\u001b[0m\u001b[1;33m\u001b[0m\u001b[1;33m\u001b[0m\u001b[0m\n\u001b[1;32m---> 16\u001b[1;33m                         \u001b[1;32mif\u001b[0m \u001b[0mmap\u001b[0m\u001b[1;33m.\u001b[0m\u001b[0mhas_key\u001b[0m\u001b[1;33m(\u001b[0m\u001b[0mkey\u001b[0m\u001b[1;33m)\u001b[0m\u001b[1;33m:\u001b[0m\u001b[1;33m\u001b[0m\u001b[1;33m\u001b[0m\u001b[0m\n\u001b[0m\u001b[0;32m     17\u001b[0m                                 \u001b[0mmap\u001b[0m\u001b[1;33m[\u001b[0m\u001b[0mkey\u001b[0m\u001b[1;33m]\u001b[0m\u001b[1;33m=\u001b[0m\u001b[0mmap\u001b[0m\u001b[1;33m[\u001b[0m\u001b[0mkey\u001b[0m\u001b[1;33m]\u001b[0m\u001b[1;33m+\u001b[0m\u001b[1;36m1\u001b[0m\u001b[1;33m\u001b[0m\u001b[1;33m\u001b[0m\u001b[0m\n\u001b[0;32m     18\u001b[0m                         \u001b[1;32melse\u001b[0m\u001b[1;33m:\u001b[0m\u001b[1;33m\u001b[0m\u001b[1;33m\u001b[0m\u001b[0m\n",
      "\u001b[1;31mAttributeError\u001b[0m: 'dict' object has no attribute 'has_key'"
     ]
    }
   ],
   "source": [
    "# Función que guarda el contenido del archivo \"PitchingPost.csv\" en una lista,\n",
    "# para después guardarla ordenada en \"Ordenado.csv\"\n",
    "\n",
    "def sort():\n",
    "        error = False\n",
    "        try:\n",
    "                file=open(\"PitchingPost.csv\")\n",
    "        except IOError:\n",
    "                error = True\n",
    "                print (\"Error al intentar abrir el archivo \\\"PitchingPost.csv\\\".\")\n",
    "        if (error == False):\n",
    "                reader=csv.reader(file)\n",
    "                lista = []\n",
    "                for linea in reader:\n",
    "                        lista.append(linea)\n",
    "                file.close()  \n",
    "                lista.sort()\n",
    "                outFile=open(\"Ordenado.csv\", \"w\")\n",
    "                outWriter = csv.writer(outFile)\n",
    "                for row in lista:\n",
    "                        outWriter.writerow(row)\n",
    "                outFile.close()\n",
    "                print (\"Archivo \\\"PitchingPost\\\" ordenado con exito.\")\n",
    "frecuency(1, \"AcumAnnos.csv\")\n",
    "frecuency(0, \"AcumJugadores.csv\")\n",
    "sort()"
   ]
  },
  {
   "cell_type": "code",
   "execution_count": 5,
   "metadata": {},
   "outputs": [
    {
     "data": {
      "text/plain": [
       "array([[3., 3.],\n",
       "       [3., 3.],\n",
       "       [3., 3.],\n",
       "       [3., 3.],\n",
       "       [3., 3.]])"
      ]
     },
     "execution_count": 5,
     "metadata": {},
     "output_type": "execute_result"
    }
   ],
   "source": [
    "import numpy as np\n",
    "Z = np.dot(np.ones((5,3)),\n",
    "           np.ones((3,2)))\n",
    "Z"
   ]
  },
  {
   "cell_type": "code",
   "execution_count": 12,
   "metadata": {},
   "outputs": [
    {
     "data": {
      "text/html": [
       "<div>\n",
       "<style scoped>\n",
       "    .dataframe tbody tr th:only-of-type {\n",
       "        vertical-align: middle;\n",
       "    }\n",
       "\n",
       "    .dataframe tbody tr th {\n",
       "        vertical-align: top;\n",
       "    }\n",
       "\n",
       "    .dataframe thead th {\n",
       "        text-align: right;\n",
       "    }\n",
       "</style>\n",
       "<table border=\"1\" class=\"dataframe\">\n",
       "  <thead>\n",
       "    <tr style=\"text-align: right;\">\n",
       "      <th></th>\n",
       "      <th>col_1</th>\n",
       "      <th>col_2</th>\n",
       "    </tr>\n",
       "  </thead>\n",
       "  <tbody>\n",
       "    <tr>\n",
       "      <th>0</th>\n",
       "      <td>0.12</td>\n",
       "      <td>0.9</td>\n",
       "    </tr>\n",
       "    <tr>\n",
       "      <th>1</th>\n",
       "      <td>7.00</td>\n",
       "      <td>9.0</td>\n",
       "    </tr>\n",
       "    <tr>\n",
       "      <th>2</th>\n",
       "      <td>45.00</td>\n",
       "      <td>34.0</td>\n",
       "    </tr>\n",
       "    <tr>\n",
       "      <th>3</th>\n",
       "      <td>10.00</td>\n",
       "      <td>11.0</td>\n",
       "    </tr>\n",
       "  </tbody>\n",
       "</table>\n",
       "</div>"
      ],
      "text/plain": [
       "   col_1  col_2\n",
       "0   0.12    0.9\n",
       "1   7.00    9.0\n",
       "2  45.00   34.0\n",
       "3  10.00   11.0"
      ]
     },
     "execution_count": 12,
     "metadata": {},
     "output_type": "execute_result"
    }
   ],
   "source": [
    "import pandas as pd \n",
    "dt= pd.DataFrame(data= {'col_1':[0.12,7,45,10], 'col_2': [0.9,9,34,11]}) \n",
    "columnas= ['col_1','col_2','col_3']\n",
    "dt"
   ]
  },
  {
   "cell_type": "code",
   "execution_count": null,
   "metadata": {},
   "outputs": [],
   "source": []
  }
 ],
 "metadata": {
  "gist": {
   "data": {
    "description": "prueba",
    "public": true
   },
   "id": ""
  },
  "kernelspec": {
   "display_name": "Python 3",
   "language": "python",
   "name": "python3"
  },
  "language_info": {
   "codemirror_mode": {
    "name": "ipython",
    "version": 3
   },
   "file_extension": ".py",
   "mimetype": "text/x-python",
   "name": "python",
   "nbconvert_exporter": "python",
   "pygments_lexer": "ipython3",
   "version": "3.7.1"
  }
 },
 "nbformat": 4,
 "nbformat_minor": 2
}
